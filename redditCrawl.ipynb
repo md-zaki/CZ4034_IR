{
 "cells": [
  {
   "cell_type": "code",
   "execution_count": 5,
   "metadata": {},
   "outputs": [],
   "source": [
    "import praw\n",
    "import pandas as pd"
   ]
  },
  {
   "cell_type": "code",
   "execution_count": 6,
   "metadata": {},
   "outputs": [],
   "source": [
    "reddit = praw.Reddit(client_id='qWeO75x58SzI4geyCIRP4g', client_secret='w1Stc95KOn-epV2HkTkZnzZ0zZ0hig', user_agent='testScrapper')"
   ]
  },
  {
   "cell_type": "code",
   "execution_count": 17,
   "metadata": {},
   "outputs": [
    {
     "name": "stdout",
     "output_type": "stream",
     "text": [
      "1 on 1 Wednesdays\n",
      "Weekly New Fan Discussion Thread\n",
      "Man City: Premier League clubs want champions kicked out if guilty of alleged financial breaches\n",
      "You've been robbed\n",
      "Are you allowed to bite the ball?\n",
      "Say 1 nice thing about your rival(s)\n",
      "In light of the City situation, should other clubs be worried?\n",
      "If Man City is deducted points and worse, relegated and kicked out of the EPL, will there be an escape of big stars like calciopoli 2006?\n",
      "Which active players are the most likely to become managers after their professional career?\n",
      "List one thing you hate about your club.\n"
     ]
    }
   ],
   "source": [
    "hot_posts = reddit.subreddit('PremierLeague').hot(limit=10)\n",
    "for post in hot_posts:\n",
    "    print(post.title)"
   ]
  },
  {
   "cell_type": "code",
   "execution_count": 20,
   "metadata": {},
   "outputs": [],
   "source": [
    "posts = []\n",
    "pc_subreddit = reddit.subreddit('PremierLeague')\n",
    "for post in pc_subreddit.hot(limit=10):\n",
    "    posts.append([post.title, post.selftext, post.subreddit, post.url])\n",
    "posts = pd.DataFrame(posts,columns=['title', 'body', 'subreddit', 'url'])\n",
    "posts.to_csv(\"epl_sample.csv\")"
   ]
  },
  {
   "cell_type": "code",
   "execution_count": 28,
   "metadata": {},
   "outputs": [
    {
     "data": {
      "text/html": [
       "<div>\n",
       "<style scoped>\n",
       "    .dataframe tbody tr th:only-of-type {\n",
       "        vertical-align: middle;\n",
       "    }\n",
       "\n",
       "    .dataframe tbody tr th {\n",
       "        vertical-align: top;\n",
       "    }\n",
       "\n",
       "    .dataframe thead th {\n",
       "        text-align: right;\n",
       "    }\n",
       "</style>\n",
       "<table border=\"1\" class=\"dataframe\">\n",
       "  <thead>\n",
       "    <tr style=\"text-align: right;\">\n",
       "      <th></th>\n",
       "      <th>body</th>\n",
       "    </tr>\n",
       "  </thead>\n",
       "  <tbody>\n",
       "    <tr>\n",
       "      <th>0</th>\n",
       "      <td>I was planning on jumping straight to Zen4/DDR...</td>\n",
       "    </tr>\n",
       "    <tr>\n",
       "      <th>1</th>\n",
       "      <td>Reminder to the gamers that 7000 series has an...</td>\n",
       "    </tr>\n",
       "    <tr>\n",
       "      <th>2</th>\n",
       "      <td>Considering the package price of cpu + mobo + ...</td>\n",
       "    </tr>\n",
       "    <tr>\n",
       "      <th>3</th>\n",
       "      <td>Okay well that settles it,rip out the 5600x an...</td>\n",
       "    </tr>\n",
       "    <tr>\n",
       "      <th>4</th>\n",
       "      <td>The 7600X really doesn't make any sense consid...</td>\n",
       "    </tr>\n",
       "    <tr>\n",
       "      <th>5</th>\n",
       "      <td>A pretty obvious question: If someone is on 20...</td>\n",
       "    </tr>\n",
       "    <tr>\n",
       "      <th>6</th>\n",
       "      <td>[deleted]</td>\n",
       "    </tr>\n",
       "    <tr>\n",
       "      <th>7</th>\n",
       "      <td>Finally, a processor I can grill meat on under...</td>\n",
       "    </tr>\n",
       "    <tr>\n",
       "      <th>8</th>\n",
       "      <td>Oof. let's hope i5 Raptor offers better bang f...</td>\n",
       "    </tr>\n",
       "    <tr>\n",
       "      <th>9</th>\n",
       "      <td>A bit shocked, in a slightly disappointed way....</td>\n",
       "    </tr>\n",
       "    <tr>\n",
       "      <th>10</th>\n",
       "      <td>Not gonna lie, looking at the benchmarks, I am...</td>\n",
       "    </tr>\n",
       "  </tbody>\n",
       "</table>\n",
       "</div>"
      ],
      "text/plain": [
       "                                                 body\n",
       "0   I was planning on jumping straight to Zen4/DDR...\n",
       "1   Reminder to the gamers that 7000 series has an...\n",
       "2   Considering the package price of cpu + mobo + ...\n",
       "3   Okay well that settles it,rip out the 5600x an...\n",
       "4   The 7600X really doesn't make any sense consid...\n",
       "5   A pretty obvious question: If someone is on 20...\n",
       "6                                           [deleted]\n",
       "7   Finally, a processor I can grill meat on under...\n",
       "8   Oof. let's hope i5 Raptor offers better bang f...\n",
       "9   A bit shocked, in a slightly disappointed way....\n",
       "10  Not gonna lie, looking at the benchmarks, I am..."
      ]
     },
     "execution_count": 28,
     "metadata": {},
     "output_type": "execute_result"
    }
   ],
   "source": [
    "submission = reddit.submission(url=\"https://www.reddit.com/r/buildapc/comments/xojfm3/amd_zen_4_launch_7600x_7700x_7900x_7950x_reviews/\")\n",
    "migrating_posts = []\n",
    "i=0\n",
    "for top_level_comment in submission.comments:\n",
    "    migrating_posts.append(top_level_comment.body)\n",
    "    i=i+1\n",
    "    if(i>10):\n",
    "        break\n",
    "\n",
    "migrating_posts = pd.DataFrame(migrating_posts,columns=['body'])\n",
    "\n",
    "migrating_posts"
   ]
  },
  {
   "cell_type": "code",
   "execution_count": 29,
   "metadata": {},
   "outputs": [],
   "source": [
    "migrating_posts.to_csv(\"pc_reviews.csv\")"
   ]
  },
  {
   "cell_type": "code",
   "execution_count": null,
   "metadata": {},
   "outputs": [],
   "source": []
  }
 ],
 "metadata": {
  "kernelspec": {
   "display_name": "irproject",
   "language": "python",
   "name": "python3"
  },
  "language_info": {
   "codemirror_mode": {
    "name": "ipython",
    "version": 3
   },
   "file_extension": ".py",
   "mimetype": "text/x-python",
   "name": "python",
   "nbconvert_exporter": "python",
   "pygments_lexer": "ipython3",
   "version": "3.10.9"
  },
  "orig_nbformat": 4,
  "vscode": {
   "interpreter": {
    "hash": "ab2d501dfb183ce2a9e8c1cd90d52d22b39c236a56c92044160ebf998ad3b3c4"
   }
  }
 },
 "nbformat": 4,
 "nbformat_minor": 2
}

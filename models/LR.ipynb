{
 "cells": [
  {
   "attachments": {},
   "cell_type": "markdown",
   "metadata": {},
   "source": [
    "# Logistic Regression Classifier"
   ]
  },
  {
   "cell_type": "code",
   "execution_count": 1,
   "metadata": {},
   "outputs": [],
   "source": [
    "import pandas as pd"
   ]
  },
  {
   "attachments": {},
   "cell_type": "markdown",
   "metadata": {},
   "source": [
    "### Import data"
   ]
  },
  {
   "cell_type": "code",
   "execution_count": 2,
   "metadata": {},
   "outputs": [
    {
     "data": {
      "text/html": [
       "<div>\n",
       "<style scoped>\n",
       "    .dataframe tbody tr th:only-of-type {\n",
       "        vertical-align: middle;\n",
       "    }\n",
       "\n",
       "    .dataframe tbody tr th {\n",
       "        vertical-align: top;\n",
       "    }\n",
       "\n",
       "    .dataframe thead th {\n",
       "        text-align: right;\n",
       "    }\n",
       "</style>\n",
       "<table border=\"1\" class=\"dataframe\">\n",
       "  <thead>\n",
       "    <tr style=\"text-align: right;\">\n",
       "      <th></th>\n",
       "      <th>text_lemmatized</th>\n",
       "      <th>sentiment</th>\n",
       "    </tr>\n",
       "  </thead>\n",
       "  <tbody>\n",
       "    <tr>\n",
       "      <th>0</th>\n",
       "      <td>httptwitpiccom 2y1zl awww bummer shoulda got d...</td>\n",
       "      <td>-1</td>\n",
       "    </tr>\n",
       "    <tr>\n",
       "      <th>1</th>\n",
       "      <td>upset cannot update facebook texting might cry...</td>\n",
       "      <td>-1</td>\n",
       "    </tr>\n",
       "    <tr>\n",
       "      <th>2</th>\n",
       "      <td>dived many time ball managed save 50 rest go b...</td>\n",
       "      <td>-1</td>\n",
       "    </tr>\n",
       "    <tr>\n",
       "      <th>3</th>\n",
       "      <td>whole body feel itchy like fire</td>\n",
       "      <td>-1</td>\n",
       "    </tr>\n",
       "    <tr>\n",
       "      <th>4</th>\n",
       "      <td>behaving mad cannot see</td>\n",
       "      <td>-1</td>\n",
       "    </tr>\n",
       "    <tr>\n",
       "      <th>...</th>\n",
       "      <td>...</td>\n",
       "      <td>...</td>\n",
       "    </tr>\n",
       "    <tr>\n",
       "      <th>1599995</th>\n",
       "      <td>woke school best feeling ever</td>\n",
       "      <td>1</td>\n",
       "    </tr>\n",
       "    <tr>\n",
       "      <th>1599996</th>\n",
       "      <td>thewdbcom cool hear old walt interview ♫ httpb...</td>\n",
       "      <td>1</td>\n",
       "    </tr>\n",
       "    <tr>\n",
       "      <th>1599997</th>\n",
       "      <td>ready mojo makeover ask detail</td>\n",
       "      <td>1</td>\n",
       "    </tr>\n",
       "    <tr>\n",
       "      <th>1599998</th>\n",
       "      <td>happy 38th birthday boo alll time tupac amaru ...</td>\n",
       "      <td>1</td>\n",
       "    </tr>\n",
       "    <tr>\n",
       "      <th>1599999</th>\n",
       "      <td>happy charitytuesday</td>\n",
       "      <td>1</td>\n",
       "    </tr>\n",
       "  </tbody>\n",
       "</table>\n",
       "<p>1593046 rows × 2 columns</p>\n",
       "</div>"
      ],
      "text/plain": [
       "                                           text_lemmatized  sentiment\n",
       "0        httptwitpiccom 2y1zl awww bummer shoulda got d...         -1\n",
       "1        upset cannot update facebook texting might cry...         -1\n",
       "2        dived many time ball managed save 50 rest go b...         -1\n",
       "3                          whole body feel itchy like fire         -1\n",
       "4                                  behaving mad cannot see         -1\n",
       "...                                                    ...        ...\n",
       "1599995                      woke school best feeling ever          1\n",
       "1599996  thewdbcom cool hear old walt interview ♫ httpb...          1\n",
       "1599997                     ready mojo makeover ask detail          1\n",
       "1599998  happy 38th birthday boo alll time tupac amaru ...          1\n",
       "1599999                               happy charitytuesday          1\n",
       "\n",
       "[1593046 rows x 2 columns]"
      ]
     },
     "execution_count": 2,
     "metadata": {},
     "output_type": "execute_result"
    }
   ],
   "source": [
    "data = pd.read_csv('../data_cleaning/preprocessed_data.csv')\n",
    "data = data[['text_lemmatized','sentiment']]\n",
    "data = data.dropna()\n",
    "data"
   ]
  },
  {
   "cell_type": "code",
   "execution_count": 3,
   "metadata": {},
   "outputs": [],
   "source": [
    "from sklearn.model_selection import train_test_split\n",
    "from sklearn.linear_model import LogisticRegression\n",
    "from sklearn.metrics import classification_report, f1_score, accuracy_score, confusion_matrix\n",
    "from sklearn.metrics import roc_curve, auc, roc_auc_score\n",
    "from sklearn.feature_extraction.text import TfidfVectorizer\n",
    "\n",
    "import numpy as np\n",
    "import nltk"
   ]
  },
  {
   "attachments": {},
   "cell_type": "markdown",
   "metadata": {},
   "source": [
    "### TF-IDF"
   ]
  },
  {
   "cell_type": "code",
   "execution_count": 4,
   "metadata": {},
   "outputs": [],
   "source": [
    "X_train, X_test, y_train, y_test = train_test_split(data[\"text_lemmatized\"],data[\"sentiment\"],test_size=0.2,shuffle=True)"
   ]
  },
  {
   "cell_type": "code",
   "execution_count": 5,
   "metadata": {},
   "outputs": [],
   "source": [
    "tfidf_vectorizer = TfidfVectorizer(use_idf=True)\n",
    "X_train_vectors_tfidf = tfidf_vectorizer.fit_transform(X_train) \n",
    "X_test_vectors_tfidf = tfidf_vectorizer.transform(X_test)"
   ]
  },
  {
   "attachments": {},
   "cell_type": "markdown",
   "metadata": {},
   "source": [
    "### Logistic Regression Classifier"
   ]
  },
  {
   "cell_type": "code",
   "execution_count": 6,
   "metadata": {},
   "outputs": [
    {
     "name": "stderr",
     "output_type": "stream",
     "text": [
      "c:\\Users\\mdzak\\anaconda3\\envs\\irproject\\lib\\site-packages\\sklearn\\linear_model\\_logistic.py:458: ConvergenceWarning: lbfgs failed to converge (status=1):\n",
      "STOP: TOTAL NO. of ITERATIONS REACHED LIMIT.\n",
      "\n",
      "Increase the number of iterations (max_iter) or scale the data as shown in:\n",
      "    https://scikit-learn.org/stable/modules/preprocessing.html\n",
      "Please also refer to the documentation for alternative solver options:\n",
      "    https://scikit-learn.org/stable/modules/linear_model.html#logistic-regression\n",
      "  n_iter_i = _check_optimize_result(\n"
     ]
    },
    {
     "data": {
      "text/html": [
       "<style>#sk-container-id-1 {color: black;background-color: white;}#sk-container-id-1 pre{padding: 0;}#sk-container-id-1 div.sk-toggleable {background-color: white;}#sk-container-id-1 label.sk-toggleable__label {cursor: pointer;display: block;width: 100%;margin-bottom: 0;padding: 0.3em;box-sizing: border-box;text-align: center;}#sk-container-id-1 label.sk-toggleable__label-arrow:before {content: \"▸\";float: left;margin-right: 0.25em;color: #696969;}#sk-container-id-1 label.sk-toggleable__label-arrow:hover:before {color: black;}#sk-container-id-1 div.sk-estimator:hover label.sk-toggleable__label-arrow:before {color: black;}#sk-container-id-1 div.sk-toggleable__content {max-height: 0;max-width: 0;overflow: hidden;text-align: left;background-color: #f0f8ff;}#sk-container-id-1 div.sk-toggleable__content pre {margin: 0.2em;color: black;border-radius: 0.25em;background-color: #f0f8ff;}#sk-container-id-1 input.sk-toggleable__control:checked~div.sk-toggleable__content {max-height: 200px;max-width: 100%;overflow: auto;}#sk-container-id-1 input.sk-toggleable__control:checked~label.sk-toggleable__label-arrow:before {content: \"▾\";}#sk-container-id-1 div.sk-estimator input.sk-toggleable__control:checked~label.sk-toggleable__label {background-color: #d4ebff;}#sk-container-id-1 div.sk-label input.sk-toggleable__control:checked~label.sk-toggleable__label {background-color: #d4ebff;}#sk-container-id-1 input.sk-hidden--visually {border: 0;clip: rect(1px 1px 1px 1px);clip: rect(1px, 1px, 1px, 1px);height: 1px;margin: -1px;overflow: hidden;padding: 0;position: absolute;width: 1px;}#sk-container-id-1 div.sk-estimator {font-family: monospace;background-color: #f0f8ff;border: 1px dotted black;border-radius: 0.25em;box-sizing: border-box;margin-bottom: 0.5em;}#sk-container-id-1 div.sk-estimator:hover {background-color: #d4ebff;}#sk-container-id-1 div.sk-parallel-item::after {content: \"\";width: 100%;border-bottom: 1px solid gray;flex-grow: 1;}#sk-container-id-1 div.sk-label:hover label.sk-toggleable__label {background-color: #d4ebff;}#sk-container-id-1 div.sk-serial::before {content: \"\";position: absolute;border-left: 1px solid gray;box-sizing: border-box;top: 0;bottom: 0;left: 50%;z-index: 0;}#sk-container-id-1 div.sk-serial {display: flex;flex-direction: column;align-items: center;background-color: white;padding-right: 0.2em;padding-left: 0.2em;position: relative;}#sk-container-id-1 div.sk-item {position: relative;z-index: 1;}#sk-container-id-1 div.sk-parallel {display: flex;align-items: stretch;justify-content: center;background-color: white;position: relative;}#sk-container-id-1 div.sk-item::before, #sk-container-id-1 div.sk-parallel-item::before {content: \"\";position: absolute;border-left: 1px solid gray;box-sizing: border-box;top: 0;bottom: 0;left: 50%;z-index: -1;}#sk-container-id-1 div.sk-parallel-item {display: flex;flex-direction: column;z-index: 1;position: relative;background-color: white;}#sk-container-id-1 div.sk-parallel-item:first-child::after {align-self: flex-end;width: 50%;}#sk-container-id-1 div.sk-parallel-item:last-child::after {align-self: flex-start;width: 50%;}#sk-container-id-1 div.sk-parallel-item:only-child::after {width: 0;}#sk-container-id-1 div.sk-dashed-wrapped {border: 1px dashed gray;margin: 0 0.4em 0.5em 0.4em;box-sizing: border-box;padding-bottom: 0.4em;background-color: white;}#sk-container-id-1 div.sk-label label {font-family: monospace;font-weight: bold;display: inline-block;line-height: 1.2em;}#sk-container-id-1 div.sk-label-container {text-align: center;}#sk-container-id-1 div.sk-container {/* jupyter's `normalize.less` sets `[hidden] { display: none; }` but bootstrap.min.css set `[hidden] { display: none !important; }` so we also need the `!important` here to be able to override the default hidden behavior on the sphinx rendered scikit-learn.org. See: https://github.com/scikit-learn/scikit-learn/issues/21755 */display: inline-block !important;position: relative;}#sk-container-id-1 div.sk-text-repr-fallback {display: none;}</style><div id=\"sk-container-id-1\" class=\"sk-top-container\"><div class=\"sk-text-repr-fallback\"><pre>LogisticRegression()</pre><b>In a Jupyter environment, please rerun this cell to show the HTML representation or trust the notebook. <br />On GitHub, the HTML representation is unable to render, please try loading this page with nbviewer.org.</b></div><div class=\"sk-container\" hidden><div class=\"sk-item\"><div class=\"sk-estimator sk-toggleable\"><input class=\"sk-toggleable__control sk-hidden--visually\" id=\"sk-estimator-id-1\" type=\"checkbox\" checked><label for=\"sk-estimator-id-1\" class=\"sk-toggleable__label sk-toggleable__label-arrow\">LogisticRegression</label><div class=\"sk-toggleable__content\"><pre>LogisticRegression()</pre></div></div></div></div></div>"
      ],
      "text/plain": [
       "LogisticRegression()"
      ]
     },
     "execution_count": 6,
     "metadata": {},
     "output_type": "execute_result"
    }
   ],
   "source": [
    "lr = LogisticRegression()\n",
    "lr.fit(X_train_vectors_tfidf,y_train)"
   ]
  },
  {
   "attachments": {},
   "cell_type": "markdown",
   "metadata": {},
   "source": [
    "### Evaluation"
   ]
  },
  {
   "cell_type": "code",
   "execution_count": 33,
   "metadata": {},
   "outputs": [
    {
     "data": {
      "text/html": [
       "<div>\n",
       "<style scoped>\n",
       "    .dataframe tbody tr th:only-of-type {\n",
       "        vertical-align: middle;\n",
       "    }\n",
       "\n",
       "    .dataframe tbody tr th {\n",
       "        vertical-align: top;\n",
       "    }\n",
       "\n",
       "    .dataframe thead th {\n",
       "        text-align: right;\n",
       "    }\n",
       "</style>\n",
       "<table border=\"1\" class=\"dataframe\">\n",
       "  <thead>\n",
       "    <tr style=\"text-align: right;\">\n",
       "      <th></th>\n",
       "      <th>Unnamed: 0</th>\n",
       "      <th>text</th>\n",
       "      <th>text_lemmatized</th>\n",
       "      <th>sentiment</th>\n",
       "    </tr>\n",
       "  </thead>\n",
       "  <tbody>\n",
       "    <tr>\n",
       "      <th>0</th>\n",
       "      <td>0</td>\n",
       "      <td>\"Just move to a completely different location\"...</td>\n",
       "      <td>move completely different location cost hundre...</td>\n",
       "      <td>0</td>\n",
       "    </tr>\n",
       "    <tr>\n",
       "      <th>1</th>\n",
       "      <td>1</td>\n",
       "      <td>I've started sharing information again about h...</td>\n",
       "      <td>started sharing information move another count...</td>\n",
       "      <td>1</td>\n",
       "    </tr>\n",
       "    <tr>\n",
       "      <th>2</th>\n",
       "      <td>2</td>\n",
       "      <td>My parents made the tough decision to move the...</td>\n",
       "      <td>parent made tough decision move family another...</td>\n",
       "      <td>-1</td>\n",
       "    </tr>\n",
       "    <tr>\n",
       "      <th>3</th>\n",
       "      <td>3</td>\n",
       "      <td>Aye, y'all tryna head out? It's too wild over ...</td>\n",
       "      <td>aye tryna head wild google get visa move anoth...</td>\n",
       "      <td>0</td>\n",
       "    </tr>\n",
       "    <tr>\n",
       "      <th>4</th>\n",
       "      <td>4</td>\n",
       "      <td>WHEN IS VAL GOING TO MOVE TO ANOTHER COUNTRY. ...</td>\n",
       "      <td>val going move another country cooking opinion...</td>\n",
       "      <td>-1</td>\n",
       "    </tr>\n",
       "    <tr>\n",
       "      <th>...</th>\n",
       "      <td>...</td>\n",
       "      <td>...</td>\n",
       "      <td>...</td>\n",
       "      <td>...</td>\n",
       "    </tr>\n",
       "    <tr>\n",
       "      <th>1265</th>\n",
       "      <td>1265</td>\n",
       "      <td>In SEPARATION ANXIETY, Gavin Bradley tracks th...</td>\n",
       "      <td>separation anxiety gavin bradley track experie...</td>\n",
       "      <td>1</td>\n",
       "    </tr>\n",
       "    <tr>\n",
       "      <th>1266</th>\n",
       "      <td>1266</td>\n",
       "      <td>The crippling Asian elder daughter feelings th...</td>\n",
       "      <td>crippling asian elder daughter feeling choke e...</td>\n",
       "      <td>0</td>\n",
       "    </tr>\n",
       "    <tr>\n",
       "      <th>1267</th>\n",
       "      <td>1267</td>\n",
       "      <td>was on the phone with my dad last night and he...</td>\n",
       "      <td>phone dad last night asking job going amp dati...</td>\n",
       "      <td>-1</td>\n",
       "    </tr>\n",
       "    <tr>\n",
       "      <th>1268</th>\n",
       "      <td>1268</td>\n",
       "      <td>You may qualify to take advantage of two possi...</td>\n",
       "      <td>may qualify take advantage two possible tax ex...</td>\n",
       "      <td>0</td>\n",
       "    </tr>\n",
       "    <tr>\n",
       "      <th>1269</th>\n",
       "      <td>1269</td>\n",
       "      <td>Kama parò,kama jale Relocating to another coun...</td>\n",
       "      <td>kama paròkama jale relocating another country ...</td>\n",
       "      <td>1</td>\n",
       "    </tr>\n",
       "  </tbody>\n",
       "</table>\n",
       "<p>1270 rows × 4 columns</p>\n",
       "</div>"
      ],
      "text/plain": [
       "      Unnamed: 0                                               text  \\\n",
       "0              0  \"Just move to a completely different location\"...   \n",
       "1              1  I've started sharing information again about h...   \n",
       "2              2  My parents made the tough decision to move the...   \n",
       "3              3  Aye, y'all tryna head out? It's too wild over ...   \n",
       "4              4  WHEN IS VAL GOING TO MOVE TO ANOTHER COUNTRY. ...   \n",
       "...          ...                                                ...   \n",
       "1265        1265  In SEPARATION ANXIETY, Gavin Bradley tracks th...   \n",
       "1266        1266  The crippling Asian elder daughter feelings th...   \n",
       "1267        1267  was on the phone with my dad last night and he...   \n",
       "1268        1268  You may qualify to take advantage of two possi...   \n",
       "1269        1269  Kama parò,kama jale Relocating to another coun...   \n",
       "\n",
       "                                        text_lemmatized  sentiment  \n",
       "0     move completely different location cost hundre...          0  \n",
       "1     started sharing information move another count...          1  \n",
       "2     parent made tough decision move family another...         -1  \n",
       "3     aye tryna head wild google get visa move anoth...          0  \n",
       "4     val going move another country cooking opinion...         -1  \n",
       "...                                                 ...        ...  \n",
       "1265  separation anxiety gavin bradley track experie...          1  \n",
       "1266  crippling asian elder daughter feeling choke e...          0  \n",
       "1267  phone dad last night asking job going amp dati...         -1  \n",
       "1268  may qualify take advantage two possible tax ex...          0  \n",
       "1269  kama paròkama jale relocating another country ...          1  \n",
       "\n",
       "[1270 rows x 4 columns]"
      ]
     },
     "execution_count": 33,
     "metadata": {},
     "output_type": "execute_result"
    }
   ],
   "source": [
    "test_cases = pd.read_csv('../data_cleaning/preprocessed_eval_data.csv')\n",
    "test_cases"
   ]
  },
  {
   "cell_type": "code",
   "execution_count": 34,
   "metadata": {},
   "outputs": [],
   "source": [
    "test_tfidf = tfidf_vectorizer.transform(test_cases['text_lemmatized'])\n",
    "prediction_prob = lr._predict_proba_lr(test_tfidf)[:,1]"
   ]
  },
  {
   "cell_type": "code",
   "execution_count": 35,
   "metadata": {},
   "outputs": [],
   "source": [
    "final_prediction = []\n",
    "for i in prediction_prob:\n",
    "    if i > 0.70:\n",
    "        final_prediction.append(1)\n",
    "    elif i < 0.30:\n",
    "        final_prediction.append(-1)\n",
    "    else:\n",
    "        final_prediction.append(0)\n",
    "\n",
    "final_prediction_arr = np.array(final_prediction)"
   ]
  },
  {
   "cell_type": "code",
   "execution_count": 36,
   "metadata": {},
   "outputs": [],
   "source": [
    "eval_ground_truth = test_cases['sentiment'].to_numpy()\n"
   ]
  },
  {
   "cell_type": "code",
   "execution_count": 38,
   "metadata": {},
   "outputs": [
    {
     "name": "stdout",
     "output_type": "stream",
     "text": [
      "              precision    recall  f1-score   support\n",
      "\n",
      "          -1       0.50      0.62      0.56       451\n",
      "           0       0.59      0.64      0.61       608\n",
      "           1       0.59      0.18      0.27       211\n",
      "\n",
      "    accuracy                           0.55      1270\n",
      "   macro avg       0.56      0.48      0.48      1270\n",
      "weighted avg       0.56      0.55      0.54      1270\n",
      "\n",
      "Confusion Matrix:\n",
      " [[280 161  10]\n",
      " [205 387  16]\n",
      " [ 70 104  37]]\n"
     ]
    }
   ],
   "source": [
    "print(classification_report(eval_ground_truth,final_prediction_arr))\n",
    "print('Confusion Matrix:\\n',confusion_matrix(eval_ground_truth, final_prediction_arr))\n",
    " \n",
    "# fpr, tpr, thresholds = roc_curve(eval_ground_truth, prediction_prob)\n",
    "# roc_auc = auc(fpr, tpr)\n",
    "# print('AUC:', roc_auc)"
   ]
  },
  {
   "attachments": {},
   "cell_type": "markdown",
   "metadata": {},
   "source": [
    "### Test Case"
   ]
  },
  {
   "cell_type": "code",
   "execution_count": 9,
   "metadata": {},
   "outputs": [
    {
     "data": {
      "text/html": [
       "<div>\n",
       "<style scoped>\n",
       "    .dataframe tbody tr th:only-of-type {\n",
       "        vertical-align: middle;\n",
       "    }\n",
       "\n",
       "    .dataframe tbody tr th {\n",
       "        vertical-align: top;\n",
       "    }\n",
       "\n",
       "    .dataframe thead th {\n",
       "        text-align: right;\n",
       "    }\n",
       "</style>\n",
       "<table border=\"1\" class=\"dataframe\">\n",
       "  <thead>\n",
       "    <tr style=\"text-align: right;\">\n",
       "      <th></th>\n",
       "      <th>text_lemmatized</th>\n",
       "      <th>predict_prob</th>\n",
       "      <th>predicted sentiment</th>\n",
       "    </tr>\n",
       "  </thead>\n",
       "  <tbody>\n",
       "    <tr>\n",
       "      <th>1539625</th>\n",
       "      <td>image cultura website almost done almost offishul</td>\n",
       "      <td>0.620718</td>\n",
       "      <td>1</td>\n",
       "    </tr>\n",
       "    <tr>\n",
       "      <th>649885</th>\n",
       "      <td>either crowd chanted horrible thing choreograp...</td>\n",
       "      <td>0.046117</td>\n",
       "      <td>-1</td>\n",
       "    </tr>\n",
       "    <tr>\n",
       "      <th>147016</th>\n",
       "      <td>could send dm got coworker always way need sty...</td>\n",
       "      <td>0.544140</td>\n",
       "      <td>1</td>\n",
       "    </tr>\n",
       "    <tr>\n",
       "      <th>1216859</th>\n",
       "      <td>oo go holiday</td>\n",
       "      <td>0.534693</td>\n",
       "      <td>1</td>\n",
       "    </tr>\n",
       "    <tr>\n",
       "      <th>1516576</th>\n",
       "      <td>look like nice one thanks letting u know work ...</td>\n",
       "      <td>0.889024</td>\n",
       "      <td>1</td>\n",
       "    </tr>\n",
       "    <tr>\n",
       "      <th>...</th>\n",
       "      <td>...</td>\n",
       "      <td>...</td>\n",
       "      <td>...</td>\n",
       "    </tr>\n",
       "    <tr>\n",
       "      <th>1559519</th>\n",
       "      <td>someone made happy today going try keep happy</td>\n",
       "      <td>0.933578</td>\n",
       "      <td>1</td>\n",
       "    </tr>\n",
       "    <tr>\n",
       "      <th>1043907</th>\n",
       "      <td>watcha gonna teach</td>\n",
       "      <td>0.779306</td>\n",
       "      <td>1</td>\n",
       "    </tr>\n",
       "    <tr>\n",
       "      <th>242967</th>\n",
       "      <td>enormous headache</td>\n",
       "      <td>0.059894</td>\n",
       "      <td>-1</td>\n",
       "    </tr>\n",
       "    <tr>\n",
       "      <th>1161467</th>\n",
       "      <td>checking multiply site httpnick 0lemultiplycom</td>\n",
       "      <td>0.893399</td>\n",
       "      <td>1</td>\n",
       "    </tr>\n",
       "    <tr>\n",
       "      <th>1493932</th>\n",
       "      <td>super long wkend expoworked open tilll closeso...</td>\n",
       "      <td>0.759497</td>\n",
       "      <td>1</td>\n",
       "    </tr>\n",
       "  </tbody>\n",
       "</table>\n",
       "<p>318610 rows × 3 columns</p>\n",
       "</div>"
      ],
      "text/plain": [
       "                                           text_lemmatized  predict_prob  \\\n",
       "1539625  image cultura website almost done almost offishul      0.620718   \n",
       "649885   either crowd chanted horrible thing choreograp...      0.046117   \n",
       "147016   could send dm got coworker always way need sty...      0.544140   \n",
       "1216859                                      oo go holiday      0.534693   \n",
       "1516576  look like nice one thanks letting u know work ...      0.889024   \n",
       "...                                                    ...           ...   \n",
       "1559519      someone made happy today going try keep happy      0.933578   \n",
       "1043907                                 watcha gonna teach      0.779306   \n",
       "242967                                   enormous headache      0.059894   \n",
       "1161467     checking multiply site httpnick 0lemultiplycom      0.893399   \n",
       "1493932  super long wkend expoworked open tilll closeso...      0.759497   \n",
       "\n",
       "         predicted sentiment  \n",
       "1539625                    1  \n",
       "649885                    -1  \n",
       "147016                     1  \n",
       "1216859                    1  \n",
       "1516576                    1  \n",
       "...                      ...  \n",
       "1559519                    1  \n",
       "1043907                    1  \n",
       "242967                    -1  \n",
       "1161467                    1  \n",
       "1493932                    1  \n",
       "\n",
       "[318610 rows x 3 columns]"
      ]
     },
     "execution_count": 9,
     "metadata": {},
     "output_type": "execute_result"
    }
   ],
   "source": [
    "test_tfidf = tfidf_vectorizer.transform(test_cases['text_lemmatized'])\n",
    "prediction = lr.predict(test_tfidf)\n",
    "prediction_prob = lr._predict_proba_lr(test_tfidf)[:,1]\n",
    "\n",
    "test_cases['predict_prob'] = prediction_prob\n",
    "test_cases['predicted sentiment'] = prediction\n",
    "test_cases"
   ]
  },
  {
   "cell_type": "code",
   "execution_count": 10,
   "metadata": {},
   "outputs": [],
   "source": [
    "final_prediction = []\n",
    "for i in prediction_prob:\n",
    "    if i > 0.65:\n",
    "        final_prediction.append(1)\n",
    "    elif i < 0.45:\n",
    "        final_prediction.append(-1)\n",
    "    else:\n",
    "        final_prediction.append(0)"
   ]
  },
  {
   "cell_type": "code",
   "execution_count": 11,
   "metadata": {},
   "outputs": [
    {
     "data": {
      "text/html": [
       "<div>\n",
       "<style scoped>\n",
       "    .dataframe tbody tr th:only-of-type {\n",
       "        vertical-align: middle;\n",
       "    }\n",
       "\n",
       "    .dataframe tbody tr th {\n",
       "        vertical-align: top;\n",
       "    }\n",
       "\n",
       "    .dataframe thead th {\n",
       "        text-align: right;\n",
       "    }\n",
       "</style>\n",
       "<table border=\"1\" class=\"dataframe\">\n",
       "  <thead>\n",
       "    <tr style=\"text-align: right;\">\n",
       "      <th></th>\n",
       "      <th>text_lemmatized</th>\n",
       "      <th>predict_prob</th>\n",
       "      <th>predicted sentiment</th>\n",
       "    </tr>\n",
       "  </thead>\n",
       "  <tbody>\n",
       "    <tr>\n",
       "      <th>1539625</th>\n",
       "      <td>image cultura website almost done almost offishul</td>\n",
       "      <td>0.620718</td>\n",
       "      <td>0</td>\n",
       "    </tr>\n",
       "    <tr>\n",
       "      <th>649885</th>\n",
       "      <td>either crowd chanted horrible thing choreograp...</td>\n",
       "      <td>0.046117</td>\n",
       "      <td>-1</td>\n",
       "    </tr>\n",
       "    <tr>\n",
       "      <th>147016</th>\n",
       "      <td>could send dm got coworker always way need sty...</td>\n",
       "      <td>0.544140</td>\n",
       "      <td>0</td>\n",
       "    </tr>\n",
       "    <tr>\n",
       "      <th>1216859</th>\n",
       "      <td>oo go holiday</td>\n",
       "      <td>0.534693</td>\n",
       "      <td>0</td>\n",
       "    </tr>\n",
       "    <tr>\n",
       "      <th>1516576</th>\n",
       "      <td>look like nice one thanks letting u know work ...</td>\n",
       "      <td>0.889024</td>\n",
       "      <td>1</td>\n",
       "    </tr>\n",
       "    <tr>\n",
       "      <th>...</th>\n",
       "      <td>...</td>\n",
       "      <td>...</td>\n",
       "      <td>...</td>\n",
       "    </tr>\n",
       "    <tr>\n",
       "      <th>1559519</th>\n",
       "      <td>someone made happy today going try keep happy</td>\n",
       "      <td>0.933578</td>\n",
       "      <td>1</td>\n",
       "    </tr>\n",
       "    <tr>\n",
       "      <th>1043907</th>\n",
       "      <td>watcha gonna teach</td>\n",
       "      <td>0.779306</td>\n",
       "      <td>1</td>\n",
       "    </tr>\n",
       "    <tr>\n",
       "      <th>242967</th>\n",
       "      <td>enormous headache</td>\n",
       "      <td>0.059894</td>\n",
       "      <td>-1</td>\n",
       "    </tr>\n",
       "    <tr>\n",
       "      <th>1161467</th>\n",
       "      <td>checking multiply site httpnick 0lemultiplycom</td>\n",
       "      <td>0.893399</td>\n",
       "      <td>1</td>\n",
       "    </tr>\n",
       "    <tr>\n",
       "      <th>1493932</th>\n",
       "      <td>super long wkend expoworked open tilll closeso...</td>\n",
       "      <td>0.759497</td>\n",
       "      <td>1</td>\n",
       "    </tr>\n",
       "  </tbody>\n",
       "</table>\n",
       "<p>318610 rows × 3 columns</p>\n",
       "</div>"
      ],
      "text/plain": [
       "                                           text_lemmatized  predict_prob  \\\n",
       "1539625  image cultura website almost done almost offishul      0.620718   \n",
       "649885   either crowd chanted horrible thing choreograp...      0.046117   \n",
       "147016   could send dm got coworker always way need sty...      0.544140   \n",
       "1216859                                      oo go holiday      0.534693   \n",
       "1516576  look like nice one thanks letting u know work ...      0.889024   \n",
       "...                                                    ...           ...   \n",
       "1559519      someone made happy today going try keep happy      0.933578   \n",
       "1043907                                 watcha gonna teach      0.779306   \n",
       "242967                                   enormous headache      0.059894   \n",
       "1161467     checking multiply site httpnick 0lemultiplycom      0.893399   \n",
       "1493932  super long wkend expoworked open tilll closeso...      0.759497   \n",
       "\n",
       "         predicted sentiment  \n",
       "1539625                    0  \n",
       "649885                    -1  \n",
       "147016                     0  \n",
       "1216859                    0  \n",
       "1516576                    1  \n",
       "...                      ...  \n",
       "1559519                    1  \n",
       "1043907                    1  \n",
       "242967                    -1  \n",
       "1161467                    1  \n",
       "1493932                    1  \n",
       "\n",
       "[318610 rows x 3 columns]"
      ]
     },
     "execution_count": 11,
     "metadata": {},
     "output_type": "execute_result"
    }
   ],
   "source": [
    "final_prediction_arr = np.array(final_prediction)\n",
    "test_cases['predicted sentiment'] = final_prediction_arr\n",
    "test_cases"
   ]
  },
  {
   "attachments": {},
   "cell_type": "markdown",
   "metadata": {},
   "source": [
    "### Test on single text"
   ]
  },
  {
   "cell_type": "code",
   "execution_count": 12,
   "metadata": {},
   "outputs": [],
   "source": [
    "text = \"things to bring when moving to another country\"\n",
    "text_array = []\n",
    "text_array.append(text)\n",
    "text_tfidf = tfidf_vectorizer.transform(text_array)"
   ]
  },
  {
   "cell_type": "code",
   "execution_count": 13,
   "metadata": {},
   "outputs": [],
   "source": [
    "test = pd.DataFrame(text_array, columns=['text'])"
   ]
  },
  {
   "cell_type": "code",
   "execution_count": 14,
   "metadata": {},
   "outputs": [],
   "source": [
    "y = lr.predict(text_tfidf)\n",
    "y_prob = lr.predict_proba(text_tfidf)[:,1]\n",
    "for i in y_prob:\n",
    "    if i > 0.65:\n",
    "        test['pred sentiment'] = 1\n",
    "    elif i < 0.45:\n",
    "        test['pred sentiment'] = -1\n",
    "    else:\n",
    "        test['pred sentiment'] = 0\n",
    "\n",
    "test['predict prob'] = y_prob"
   ]
  },
  {
   "cell_type": "code",
   "execution_count": 15,
   "metadata": {},
   "outputs": [
    {
     "data": {
      "text/html": [
       "<div>\n",
       "<style scoped>\n",
       "    .dataframe tbody tr th:only-of-type {\n",
       "        vertical-align: middle;\n",
       "    }\n",
       "\n",
       "    .dataframe tbody tr th {\n",
       "        vertical-align: top;\n",
       "    }\n",
       "\n",
       "    .dataframe thead th {\n",
       "        text-align: right;\n",
       "    }\n",
       "</style>\n",
       "<table border=\"1\" class=\"dataframe\">\n",
       "  <thead>\n",
       "    <tr style=\"text-align: right;\">\n",
       "      <th></th>\n",
       "      <th>text</th>\n",
       "      <th>pred sentiment</th>\n",
       "      <th>predict prob</th>\n",
       "    </tr>\n",
       "  </thead>\n",
       "  <tbody>\n",
       "    <tr>\n",
       "      <th>0</th>\n",
       "      <td>things to bring when moving to another country</td>\n",
       "      <td>0</td>\n",
       "      <td>0.509199</td>\n",
       "    </tr>\n",
       "  </tbody>\n",
       "</table>\n",
       "</div>"
      ],
      "text/plain": [
       "                                             text  pred sentiment  \\\n",
       "0  things to bring when moving to another country               0   \n",
       "\n",
       "   predict prob  \n",
       "0      0.509199  "
      ]
     },
     "execution_count": 15,
     "metadata": {},
     "output_type": "execute_result"
    }
   ],
   "source": [
    "test"
   ]
  },
  {
   "cell_type": "code",
   "execution_count": null,
   "metadata": {},
   "outputs": [],
   "source": []
  }
 ],
 "metadata": {
  "kernelspec": {
   "display_name": "irproject",
   "language": "python",
   "name": "python3"
  },
  "language_info": {
   "codemirror_mode": {
    "name": "ipython",
    "version": 3
   },
   "file_extension": ".py",
   "mimetype": "text/x-python",
   "name": "python",
   "nbconvert_exporter": "python",
   "pygments_lexer": "ipython3",
   "version": "3.10.9"
  },
  "orig_nbformat": 4,
  "vscode": {
   "interpreter": {
    "hash": "ab2d501dfb183ce2a9e8c1cd90d52d22b39c236a56c92044160ebf998ad3b3c4"
   }
  }
 },
 "nbformat": 4,
 "nbformat_minor": 2
}

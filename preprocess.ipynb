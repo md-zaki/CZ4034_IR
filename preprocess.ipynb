{
 "cells": [
  {
   "cell_type": "code",
   "execution_count": 1,
   "metadata": {},
   "outputs": [],
   "source": [
    "import pandas as pd\n",
    "import nltk\n"
   ]
  },
  {
   "attachments": {},
   "cell_type": "markdown",
   "metadata": {},
   "source": [
    "### Loading Data"
   ]
  },
  {
   "cell_type": "code",
   "execution_count": 2,
   "metadata": {},
   "outputs": [],
   "source": [
    "cr = pd.read_excel('datasets/datasets.xls', sheet_name='CR',header=None)"
   ]
  },
  {
   "cell_type": "code",
   "execution_count": 3,
   "metadata": {},
   "outputs": [
    {
     "data": {
      "text/html": [
       "<div>\n",
       "<style scoped>\n",
       "    .dataframe tbody tr th:only-of-type {\n",
       "        vertical-align: middle;\n",
       "    }\n",
       "\n",
       "    .dataframe tbody tr th {\n",
       "        vertical-align: top;\n",
       "    }\n",
       "\n",
       "    .dataframe thead th {\n",
       "        text-align: right;\n",
       "    }\n",
       "</style>\n",
       "<table border=\"1\" class=\"dataframe\">\n",
       "  <thead>\n",
       "    <tr style=\"text-align: right;\">\n",
       "      <th></th>\n",
       "      <th>0</th>\n",
       "      <th>1</th>\n",
       "    </tr>\n",
       "  </thead>\n",
       "  <tbody>\n",
       "    <tr>\n",
       "      <th>0</th>\n",
       "      <td>weaknesses are minor : the feel and layout of ...</td>\n",
       "      <td>NEGATIVE</td>\n",
       "    </tr>\n",
       "    <tr>\n",
       "      <th>1</th>\n",
       "      <td>many of our disney movies do n 't play on this...</td>\n",
       "      <td>NEGATIVE</td>\n",
       "    </tr>\n",
       "    <tr>\n",
       "      <th>2</th>\n",
       "      <td>player has a problem with dual-layer dvd 's su...</td>\n",
       "      <td>NEGATIVE</td>\n",
       "    </tr>\n",
       "    <tr>\n",
       "      <th>3</th>\n",
       "      <td>i know the saying is \" you get what you pay fo...</td>\n",
       "      <td>NEGATIVE</td>\n",
       "    </tr>\n",
       "    <tr>\n",
       "      <th>4</th>\n",
       "      <td>will never purchase apex again .</td>\n",
       "      <td>NEGATIVE</td>\n",
       "    </tr>\n",
       "  </tbody>\n",
       "</table>\n",
       "</div>"
      ],
      "text/plain": [
       "                                                   0         1\n",
       "0  weaknesses are minor : the feel and layout of ...  NEGATIVE\n",
       "1  many of our disney movies do n 't play on this...  NEGATIVE\n",
       "2  player has a problem with dual-layer dvd 's su...  NEGATIVE\n",
       "3  i know the saying is \" you get what you pay fo...  NEGATIVE\n",
       "4                   will never purchase apex again .  NEGATIVE"
      ]
     },
     "execution_count": 3,
     "metadata": {},
     "output_type": "execute_result"
    }
   ],
   "source": [
    "cr.head()"
   ]
  },
  {
   "cell_type": "code",
   "execution_count": 4,
   "metadata": {},
   "outputs": [],
   "source": [
    "cr.columns = ['text', 'sentiment']"
   ]
  },
  {
   "cell_type": "code",
   "execution_count": 5,
   "metadata": {},
   "outputs": [
    {
     "data": {
      "text/html": [
       "<div>\n",
       "<style scoped>\n",
       "    .dataframe tbody tr th:only-of-type {\n",
       "        vertical-align: middle;\n",
       "    }\n",
       "\n",
       "    .dataframe tbody tr th {\n",
       "        vertical-align: top;\n",
       "    }\n",
       "\n",
       "    .dataframe thead th {\n",
       "        text-align: right;\n",
       "    }\n",
       "</style>\n",
       "<table border=\"1\" class=\"dataframe\">\n",
       "  <thead>\n",
       "    <tr style=\"text-align: right;\">\n",
       "      <th></th>\n",
       "      <th>text</th>\n",
       "      <th>sentiment</th>\n",
       "    </tr>\n",
       "  </thead>\n",
       "  <tbody>\n",
       "    <tr>\n",
       "      <th>0</th>\n",
       "      <td>weaknesses are minor : the feel and layout of ...</td>\n",
       "      <td>NEGATIVE</td>\n",
       "    </tr>\n",
       "    <tr>\n",
       "      <th>1</th>\n",
       "      <td>many of our disney movies do n 't play on this...</td>\n",
       "      <td>NEGATIVE</td>\n",
       "    </tr>\n",
       "    <tr>\n",
       "      <th>2</th>\n",
       "      <td>player has a problem with dual-layer dvd 's su...</td>\n",
       "      <td>NEGATIVE</td>\n",
       "    </tr>\n",
       "    <tr>\n",
       "      <th>3</th>\n",
       "      <td>i know the saying is \" you get what you pay fo...</td>\n",
       "      <td>NEGATIVE</td>\n",
       "    </tr>\n",
       "    <tr>\n",
       "      <th>4</th>\n",
       "      <td>will never purchase apex again .</td>\n",
       "      <td>NEGATIVE</td>\n",
       "    </tr>\n",
       "    <tr>\n",
       "      <th>...</th>\n",
       "      <td>...</td>\n",
       "      <td>...</td>\n",
       "    </tr>\n",
       "    <tr>\n",
       "      <th>3766</th>\n",
       "      <td>i installed , activated and registered nis 200...</td>\n",
       "      <td>POSITIVE</td>\n",
       "    </tr>\n",
       "    <tr>\n",
       "      <th>3767</th>\n",
       "      <td>so far , the anti-spam feature seems to be ver...</td>\n",
       "      <td>POSITIVE</td>\n",
       "    </tr>\n",
       "    <tr>\n",
       "      <th>3768</th>\n",
       "      <td>i downloaded a trial version of computer assoc...</td>\n",
       "      <td>POSITIVE</td>\n",
       "    </tr>\n",
       "    <tr>\n",
       "      <th>3769</th>\n",
       "      <td>i did not have any of the installation problem...</td>\n",
       "      <td>POSITIVE</td>\n",
       "    </tr>\n",
       "    <tr>\n",
       "      <th>3770</th>\n",
       "      <td>their products have been great and have saved ...</td>\n",
       "      <td>POSITIVE</td>\n",
       "    </tr>\n",
       "  </tbody>\n",
       "</table>\n",
       "<p>3771 rows × 2 columns</p>\n",
       "</div>"
      ],
      "text/plain": [
       "                                                   text sentiment\n",
       "0     weaknesses are minor : the feel and layout of ...  NEGATIVE\n",
       "1     many of our disney movies do n 't play on this...  NEGATIVE\n",
       "2     player has a problem with dual-layer dvd 's su...  NEGATIVE\n",
       "3     i know the saying is \" you get what you pay fo...  NEGATIVE\n",
       "4                      will never purchase apex again .  NEGATIVE\n",
       "...                                                 ...       ...\n",
       "3766  i installed , activated and registered nis 200...  POSITIVE\n",
       "3767  so far , the anti-spam feature seems to be ver...  POSITIVE\n",
       "3768  i downloaded a trial version of computer assoc...  POSITIVE\n",
       "3769  i did not have any of the installation problem...  POSITIVE\n",
       "3770  their products have been great and have saved ...  POSITIVE\n",
       "\n",
       "[3771 rows x 2 columns]"
      ]
     },
     "execution_count": 5,
     "metadata": {},
     "output_type": "execute_result"
    }
   ],
   "source": [
    "cr"
   ]
  },
  {
   "attachments": {},
   "cell_type": "markdown",
   "metadata": {},
   "source": [
    "### Casing the Characters"
   ]
  },
  {
   "cell_type": "code",
   "execution_count": 15,
   "metadata": {},
   "outputs": [
    {
     "data": {
      "text/plain": [
       "\"weaknesses are minor : the feel and layout of the remote control are only so-so ; . it does n 't show the complete file names of mp3s with really long names ; . you must cycle through every zoom setting ( 2x , 3x , 4x , 1/2x , etc . ) before getting back to normal size [ sorry if i 'm just ignorant of a way to get back to 1x quickly ] .\""
      ]
     },
     "execution_count": 15,
     "metadata": {},
     "output_type": "execute_result"
    }
   ],
   "source": [
    "lower_case = cr.text[0]\n",
    "lower_case"
   ]
  },
  {
   "attachments": {},
   "cell_type": "markdown",
   "metadata": {},
   "source": [
    "### Tokenization"
   ]
  },
  {
   "cell_type": "code",
   "execution_count": 16,
   "metadata": {},
   "outputs": [
    {
     "data": {
      "text/plain": [
       "\"weaknesses are minor : the feel and layout of the remote control are only so-so ; . it does n 't show the complete file names of mp3s with really long names ; . you must cycle through every zoom setting ( 2x , 3x , 4x , 1/2x , etc . ) before getting back to normal size [ sorry if i 'm just ignorant of a way to get back to 1x quickly ] .\""
      ]
     },
     "execution_count": 16,
     "metadata": {},
     "output_type": "execute_result"
    }
   ],
   "source": [
    "lower_case"
   ]
  },
  {
   "cell_type": "code",
   "execution_count": 17,
   "metadata": {},
   "outputs": [
    {
     "name": "stdout",
     "output_type": "stream",
     "text": [
      "['weaknesses', 'are', 'minor', ':', 'the', 'feel', 'and', 'layout', 'of', 'the', 'remote', 'control', 'are', 'only', 'so-so', ';', '.', 'it', 'does', 'n', \"'t\", 'show', 'the', 'complete', 'file', 'names', 'of', 'mp3s', 'with', 'really', 'long', 'names', ';', '.', 'you', 'must', 'cycle', 'through', 'every', 'zoom', 'setting', '(', '2x', ',', '3x', ',', '4x', ',', '1/2x', ',', 'etc', '.', ')', 'before', 'getting', 'back', 'to', 'normal', 'size', '[', 'sorry', 'if', 'i', \"'m\", 'just', 'ignorant', 'of', 'a', 'way', 'to', 'get', 'back', 'to', '1x', 'quickly', ']', '.']\n"
     ]
    }
   ],
   "source": [
    "from nltk.tokenize import word_tokenize\n",
    "tokens = word_tokenize(cr.text[0])\n",
    "print(tokens)"
   ]
  },
  {
   "attachments": {},
   "cell_type": "markdown",
   "metadata": {},
   "source": [
    "### Stopwords"
   ]
  },
  {
   "cell_type": "code",
   "execution_count": 18,
   "metadata": {},
   "outputs": [
    {
     "name": "stdout",
     "output_type": "stream",
     "text": [
      "['weaknesses', 'minor', ':', 'feel', 'layout', 'remote', 'control', 'so-so', ';', '.', 'n', \"'t\", 'show', 'complete', 'file', 'names', 'mp3s', 'really', 'long', 'names', ';', '.', 'must', 'cycle', 'every', 'zoom', 'setting', '(', '2x', ',', '3x', ',', '4x', ',', '1/2x', ',', 'etc', '.', ')', 'getting', 'back', 'normal', 'size', '[', 'sorry', \"'m\", 'ignorant', 'way', 'get', 'back', '1x', 'quickly', ']', '.']\n"
     ]
    }
   ],
   "source": [
    "from nltk.corpus import stopwords\n",
    "stop_words = stopwords.words('english')\n",
    "print ([i for i in tokens if i not in stop_words])"
   ]
  },
  {
   "attachments": {},
   "cell_type": "markdown",
   "metadata": {},
   "source": [
    "### Remove Punctuation"
   ]
  },
  {
   "cell_type": "code",
   "execution_count": 27,
   "metadata": {},
   "outputs": [
    {
     "data": {
      "text/plain": [
       "['weaknesses',\n",
       " 'are',\n",
       " 'minor',\n",
       " 'the',\n",
       " 'feel',\n",
       " 'and',\n",
       " 'layout',\n",
       " 'of',\n",
       " 'the',\n",
       " 'remote',\n",
       " 'control',\n",
       " 'are',\n",
       " 'only',\n",
       " 'it',\n",
       " 'does',\n",
       " 'n',\n",
       " 'show',\n",
       " 'the',\n",
       " 'complete',\n",
       " 'file',\n",
       " 'names',\n",
       " 'of',\n",
       " 'with',\n",
       " 'really',\n",
       " 'long',\n",
       " 'names',\n",
       " 'you',\n",
       " 'must',\n",
       " 'cycle',\n",
       " 'through',\n",
       " 'every',\n",
       " 'zoom',\n",
       " 'setting',\n",
       " 'etc',\n",
       " 'before',\n",
       " 'getting',\n",
       " 'back',\n",
       " 'to',\n",
       " 'normal',\n",
       " 'size',\n",
       " 'sorry',\n",
       " 'if',\n",
       " 'i',\n",
       " 'just',\n",
       " 'ignorant',\n",
       " 'of',\n",
       " 'a',\n",
       " 'way',\n",
       " 'to',\n",
       " 'get',\n",
       " 'back',\n",
       " 'to',\n",
       " 'quickly']"
      ]
     },
     "execution_count": 27,
     "metadata": {},
     "output_type": "execute_result"
    }
   ],
   "source": [
    "words = [word for word in tokens if word.isalpha()]\n",
    "words"
   ]
  },
  {
   "attachments": {},
   "cell_type": "markdown",
   "metadata": {},
   "source": [
    "### Lemmatization"
   ]
  },
  {
   "cell_type": "code",
   "execution_count": 28,
   "metadata": {},
   "outputs": [],
   "source": [
    "from nltk.stem import WordNetLemmatizer\n",
    "lemmatizer = WordNetLemmatizer()\n",
    "for i in range (len(words)):\n",
    "    new = lemmatizer.lemmatize(words[i])\n",
    "    words[i] = new\n"
   ]
  },
  {
   "cell_type": "code",
   "execution_count": 29,
   "metadata": {},
   "outputs": [
    {
     "data": {
      "text/plain": [
       "['weakness',\n",
       " 'are',\n",
       " 'minor',\n",
       " 'the',\n",
       " 'feel',\n",
       " 'and',\n",
       " 'layout',\n",
       " 'of',\n",
       " 'the',\n",
       " 'remote',\n",
       " 'control',\n",
       " 'are',\n",
       " 'only',\n",
       " 'it',\n",
       " 'doe',\n",
       " 'n',\n",
       " 'show',\n",
       " 'the',\n",
       " 'complete',\n",
       " 'file',\n",
       " 'name',\n",
       " 'of',\n",
       " 'with',\n",
       " 'really',\n",
       " 'long',\n",
       " 'name',\n",
       " 'you',\n",
       " 'must',\n",
       " 'cycle',\n",
       " 'through',\n",
       " 'every',\n",
       " 'zoom',\n",
       " 'setting',\n",
       " 'etc',\n",
       " 'before',\n",
       " 'getting',\n",
       " 'back',\n",
       " 'to',\n",
       " 'normal',\n",
       " 'size',\n",
       " 'sorry',\n",
       " 'if',\n",
       " 'i',\n",
       " 'just',\n",
       " 'ignorant',\n",
       " 'of',\n",
       " 'a',\n",
       " 'way',\n",
       " 'to',\n",
       " 'get',\n",
       " 'back',\n",
       " 'to',\n",
       " 'quickly']"
      ]
     },
     "execution_count": 29,
     "metadata": {},
     "output_type": "execute_result"
    }
   ],
   "source": [
    "words"
   ]
  },
  {
   "cell_type": "code",
   "execution_count": null,
   "metadata": {},
   "outputs": [],
   "source": []
  }
 ],
 "metadata": {
  "kernelspec": {
   "display_name": "irproject",
   "language": "python",
   "name": "python3"
  },
  "language_info": {
   "codemirror_mode": {
    "name": "ipython",
    "version": 3
   },
   "file_extension": ".py",
   "mimetype": "text/x-python",
   "name": "python",
   "nbconvert_exporter": "python",
   "pygments_lexer": "ipython3",
   "version": "3.10.9"
  },
  "orig_nbformat": 4,
  "vscode": {
   "interpreter": {
    "hash": "ab2d501dfb183ce2a9e8c1cd90d52d22b39c236a56c92044160ebf998ad3b3c4"
   }
  }
 },
 "nbformat": 4,
 "nbformat_minor": 2
}
